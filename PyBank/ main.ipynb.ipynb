{
 "cells": [
  {
   "cell_type": "code",
   "execution_count": 12,
   "id": "303a22a1-d0c2-40c9-9dd2-226e6b8661a4",
   "metadata": {},
   "outputs": [
    {
     "name": "stdout",
     "output_type": "stream",
     "text": [
      "{PosixPath('/Users/kerim/Desktop/Assignment/python_challenge/PyBank')}\n"
     ]
    }
   ],
   "source": [
    "from pathlib import Path\n",
    "print({Path.cwd()})\n",
    "import csv"
   ]
  },
  {
   "cell_type": "code",
   "execution_count": 13,
   "id": "7b84e498-2536-4794-ae87-9de2db622121",
   "metadata": {
    "tags": []
   },
   "outputs": [],
   "source": [
    "python_homework = Path(\"budget_data.csv\")"
   ]
  },
  {
   "cell_type": "code",
   "execution_count": 22,
   "id": "1e6ac047-7beb-4ecc-9f48-288f6d274dd2",
   "metadata": {
    "tags": []
   },
   "outputs": [],
   "source": [
    "# The total number of months included in the dataset.\n",
    "\n",
    "total_months = 0\n",
    "total_profits = 0\n",
    "previous_profit = 0\n",
    "changes = []\n",
    "dates = []\n",
    "\n",
    "with open(python_homework, 'r') as csvfile:  \n",
    "    csvreader = csv.reader(csvfile)\n",
    "    header = next(csvreader)\n",
    "\n",
    "    for row in csvreader:\n",
    "        if total_months > 0:\n",
    "            current_profit = int(row[1])\n",
    "            change = current_profit - previous_profit\n",
    "            changes.append(change)\n",
    "            dates.append(row[0])\n",
    "            previous_profit = current_profit\n",
    "        else:\n",
    "            previous_profit = int(row[1])\n",
    "        total_months += 1\n",
    "        total_profits += int(row[1])\n"
   ]
  },
  {
   "cell_type": "code",
   "execution_count": 23,
   "id": "813f0ff5-575a-4ddb-939d-5dbeb85984dc",
   "metadata": {
    "tags": []
   },
   "outputs": [],
   "source": [
    "# The average of the changes in Profit/Losses over the entire period.\n",
    "total_changes = 0\n",
    "if total_months > 1:\n",
    "    for row in changes:\n",
    "        total_changes += row\n",
    "    daily_average = round(total_changes / (total_months - 1), 2)"
   ]
  },
  {
   "cell_type": "code",
   "execution_count": 24,
   "id": "0a7b709c-d653-4d79-a766-cedb899ae0b1",
   "metadata": {},
   "outputs": [],
   "source": [
    "# The greatest increase in profits (date and amount) over the entire period.\n",
    "# The greatest decrease in losses (date and amount) over the entire period.\n",
    "greatest_increase = [\"\", 0]\n",
    "greatest_decrease = [\"\", 0]\n",
    "\n",
    "for date, change in zip(dates, changes):\n",
    "    if change > greatest_increase[1]:\n",
    "        greatest_increase[0] = date\n",
    "        greatest_increase[1] = change\n",
    "    elif change < greatest_decrease[1]:\n",
    "        greatest_decrease[0] = date\n",
    "        greatest_decrease[1] = change\n"
   ]
  },
  {
   "cell_type": "code",
   "execution_count": 25,
   "id": "fe854b63-bd78-41f8-939f-6f3e70fd764a",
   "metadata": {},
   "outputs": [
    {
     "name": "stdout",
     "output_type": "stream",
     "text": [
      "Financial Analysis\n",
      "The total number of months is: 86\n",
      "The total profits is: $38382578\n",
      "Average daily changes $-2315.12\n",
      "Greatest Increase in Profits: Feb-2012 ($1926159)\n",
      "Greatest Decrease in Profits: Sep-2013 ($-2196167)\n"
     ]
    }
   ],
   "source": [
    "#Your resulting analysis should look similar to the following:\n",
    "\n",
    "print(f\"Financial Analysis\")\n",
    "#----------------------------\n",
    "print(f\"The total number of months is: {total_months}\")\n",
    "print(f\"The total profits is: ${total_profits}\")\n",
    "print(f\"Average daily changes ${daily_average}\")\n",
    "print(f\"Greatest Increase in Profits: {greatest_increase[0]} (${greatest_increase[1]})\")\n",
    "print(f\"Greatest Decrease in Profits: {greatest_decrease[0]} (${greatest_decrease[1]})\")"
   ]
  }
 ],
 "metadata": {
  "kernelspec": {
   "display_name": "Python 3 (ipykernel)",
   "language": "python",
   "name": "python3"
  },
  "language_info": {
   "codemirror_mode": {
    "name": "ipython",
    "version": 3
   },
   "file_extension": ".py",
   "mimetype": "text/x-python",
   "name": "python",
   "nbconvert_exporter": "python",
   "pygments_lexer": "ipython3",
   "version": "3.11.5"
  }
 },
 "nbformat": 4,
 "nbformat_minor": 5
}
