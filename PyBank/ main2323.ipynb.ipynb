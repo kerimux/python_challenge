{
 "cells": [
  {
   "cell_type": "code",
   "execution_count": 7,
   "id": "303a22a1-d0c2-40c9-9dd2-226e6b8661a4",
   "metadata": {},
   "outputs": [
    {
     "name": "stdout",
     "output_type": "stream",
     "text": [
      "{PosixPath('/Users/kerim/Desktop/Assignment/python_challenge/PyBank')}\n"
     ]
    }
   ],
   "source": [
    "from pathlib import Path\n",
    "print({Path.cwd()})\n",
    "import csv"
   ]
  },
  {
   "cell_type": "code",
   "execution_count": 8,
   "id": "7b84e498-2536-4794-ae87-9de2db622121",
   "metadata": {
    "tags": []
   },
   "outputs": [],
   "source": [
    "python_homework = Path(\"budget_data.csv\")"
   ]
  },
  {
   "cell_type": "code",
   "execution_count": 14,
   "id": "1e6ac047-7beb-4ecc-9f48-288f6d274dd2",
   "metadata": {
    "tags": []
   },
   "outputs": [
    {
     "name": "stdout",
     "output_type": "stream",
     "text": [
      "The total number of months is: 86\n",
      "The total profits is: $38382578\n"
     ]
    }
   ],
   "source": [
    "# The total number of months included in the dataset.\n",
    "\n",
    "total_months = 0\n",
    "total_profits = 0\n",
    "profit = 0\n",
    "changes = []\n",
    "dates = [] \n",
    "\n",
    "with open(python_homework, 'r') as csvfile:\n",
    "    csvreader = csv.reader(csvfile)\n",
    "    header = next(csvreader)\n",
    "    \n",
    "    for row in csvreader:\n",
    "        if total_months > 0:\n",
    "           # changes.append(int(row[1]) - int(profit))\n",
    "           # dates.append(row[0])\n",
    "        total_months += 1\n",
    "        total_profits += int(row[1])\n",
    "        profit = row[1]\n",
    "        \n",
    "\n",
    "print(f\"The total number of months is: {total_months}\")\n",
    "print(f\"The total profits is: ${total_profits}\")"
   ]
  },
  {
   "cell_type": "code",
   "execution_count": 16,
   "id": "dfcf1f79-cabc-4d0d-afd9-fb95c7bb0982",
   "metadata": {
    "tags": []
   },
   "outputs": [
    {
     "ename": "TypeError",
     "evalue": "'list' object is not callable",
     "output_type": "error",
     "traceback": [
      "\u001b[0;31m---------------------------------------------------------------------------\u001b[0m",
      "\u001b[0;31mTypeError\u001b[0m                                 Traceback (most recent call last)",
      "Cell \u001b[0;32mIn[16], line 1\u001b[0m\n\u001b[0;32m----> 1\u001b[0m changes()\n",
      "\u001b[0;31mTypeError\u001b[0m: 'list' object is not callable"
     ]
    }
   ],
   "source": [
    "changes"
   ]
  },
  {
   "cell_type": "code",
   "execution_count": 124,
   "id": "813f0ff5-575a-4ddb-939d-5dbeb85984dc",
   "metadata": {
    "tags": []
   },
   "outputs": [
    {
     "name": "stdout",
     "output_type": "stream",
     "text": [
      "Average daily changes $-2315.12\n"
     ]
    }
   ],
   "source": [
    "# The average of the changes in Profit/Losses over the entire period.\n",
    "total_changes = 0\n",
    "for row in changes:\n",
    "    total_changes += row\n",
    "daily_average = round(total_changes / (total_months -1), 2)\n",
    "print(f\"Average daily changes ${daily_average}\")"
   ]
  },
  {
   "cell_type": "code",
   "execution_count": 129,
   "id": "0a7b709c-d653-4d79-a766-cedb899ae0b1",
   "metadata": {},
   "outputs": [
    {
     "ename": "TypeError",
     "evalue": "'>' not supported between instances of 'list' and 'int'",
     "output_type": "error",
     "traceback": [
      "\u001b[0;31m---------------------------------------------------------------------------\u001b[0m",
      "\u001b[0;31mTypeError\u001b[0m                                 Traceback (most recent call last)",
      "Cell \u001b[0;32mIn[129], line 7\u001b[0m\n\u001b[1;32m      4\u001b[0m greatest_decrease \u001b[38;5;241m=\u001b[39m [\u001b[38;5;124m\"\u001b[39m\u001b[38;5;124m\"\u001b[39m, \u001b[38;5;241m0\u001b[39m]\n\u001b[1;32m      6\u001b[0m \u001b[38;5;28;01mfor\u001b[39;00m row \u001b[38;5;129;01min\u001b[39;00m changes, dates:\n\u001b[0;32m----> 7\u001b[0m     \u001b[38;5;28;01mif\u001b[39;00m row \u001b[38;5;241m>\u001b[39m greatest_increase[\u001b[38;5;241m1\u001b[39m]:\n\u001b[1;32m      8\u001b[0m         greatest_increase[\u001b[38;5;241m1\u001b[39m] \u001b[38;5;241m=\u001b[39m row\n\u001b[1;32m      9\u001b[0m     \u001b[38;5;28;01melif\u001b[39;00m row \u001b[38;5;241m<\u001b[39m greatest_decrease[\u001b[38;5;241m1\u001b[39m]:\n",
      "\u001b[0;31mTypeError\u001b[0m: '>' not supported between instances of 'list' and 'int'"
     ]
    }
   ],
   "source": [
    "# The greatest increase in profits (date and amount) over the entire period.\n",
    "# The greatest decrease in losses (date and amount) over the entire period.\n",
    "greatest_increase = [\"\", 0]\n",
    "greatest_decrease = [\"\", 0]\n",
    "\n",
    "for row in changes, dates:\n",
    "    if row > greatest_increase[1]:\n",
    "        greatest_increase[1] = row[1]\n",
    "        greatest_increase[0] = row[0]\n",
    "    elif row < greatest_decrease[1]:\n",
    "        greatest_decrease[1]= row\n",
    "print(f\"Greatest Increase in Profits: {dates} ${greatest_increase}\")\n",
    "print(f\"Greatest Decrease in Profits: {dates} ${greatest_decrease}\")"
   ]
  },
  {
   "cell_type": "code",
   "execution_count": 17,
   "id": "37aa5a99-a5a2-4a0a-ab3a-96ddffeb5277",
   "metadata": {
    "tags": []
   },
   "outputs": [
    {
     "name": "stdout",
     "output_type": "stream",
     "text": [
      "[116771, -662642, -391430, 379920, 212354, 510239, -428211, -821271, 693918, 416278, -974163, 860159, -1115009, 1033048, 95318, -308093, 99052, -521393, 605450, 231727, -65187, -702716, 177975, -1065544, 1926159, -917805, 898730, -334262, -246499, -64055, -1529236, 1497596, 304914, -635801, 398319, -183161, -37864, -253689, 403655, 94168, 306877, -83000, 210462, -2196167, 1465222, -956983, 1838447, -468003, -64602, 206242, -242155, -449079, 315198, 241099, 111540, 365942, -219310, -368665, 409837, 151210, -110244, -341938, -1212159, 683246, -70825, 335594, 417334, -272194, -236462, 657432, -211262, -128237, -1750387, 925441, 932089, -311434, 267252, -1876758, 1733696, 198551, -665765, 693229, -734926, 77242, 532869]\n",
      "['Feb-2010', 'Mar-2010', 'Apr-2010', 'May-2010', 'Jun-2010', 'Jul-2010', 'Aug-2010', 'Sep-2010', 'Oct-2010', 'Nov-2010', 'Dec-2010', 'Jan-2011', 'Feb-2011', 'Mar-2011', 'Apr-2011', 'May-2011', 'Jun-2011', 'Jul-2011', 'Aug-2011', 'Sep-2011', 'Oct-2011', 'Nov-2011', 'Dec-2011', 'Jan-2012', 'Feb-2012', 'Mar-2012', 'Apr-2012', 'May-2012', 'Jun-2012', 'Jul-2012', 'Aug-2012', 'Sep-2012', 'Oct-2012', 'Nov-2012', 'Dec-2012', 'Jan-2013', 'Feb-2013', 'Mar-2013', 'Apr-2013', 'May-2013', 'Jun-2013', 'Jul-2013', 'Aug-2013', 'Sep-2013', 'Oct-2013', 'Nov-2013', 'Dec-2013', 'Jan-2014', 'Feb-2014', 'Mar-2014', 'Apr-2014', 'May-2014', 'Jun-2014', 'Jul-2014', 'Aug-2014', 'Sep-2014', 'Oct-2014', 'Nov-2014', 'Dec-2014', 'Jan-2015', 'Feb-2015', 'Mar-2015', 'Apr-2015', 'May-2015', 'Jun-2015', 'Jul-2015', 'Aug-2015', 'Sep-2015', 'Oct-2015', 'Nov-2015', 'Dec-2015', 'Jan-2016', 'Feb-2016', 'Mar-2016', 'Apr-2016', 'May-2016', 'Jun-2016', 'Jul-2016', 'Aug-2016', 'Sep-2016', 'Oct-2016', 'Nov-2016', 'Dec-2016', 'Jan-2017', 'Feb-2017']\n"
     ]
    }
   ],
   "source": [
    "for row in changes, dates:\n",
    "    print(row)"
   ]
  },
  {
   "cell_type": "code",
   "execution_count": 119,
   "id": "fe854b63-bd78-41f8-939f-6f3e70fd764a",
   "metadata": {},
   "outputs": [
    {
     "name": "stdout",
     "output_type": "stream",
     "text": [
      "Financial Analysis\n",
      "The total number of months is: 86\n",
      "The total profits is: $38382578\n",
      "Average daily changes $-2315.12\n",
      "Greatest Increase in Profits: Feb-2017 $1926159\n",
      "Greatest Decrease in Profits: Feb-2017 $-2196167\n"
     ]
    }
   ],
   "source": [
    "#Your resulting analysis should look similar to the following:\n",
    "\n",
    "print(f\"Financial Analysis\")\n",
    "#----------------------------\n",
    "print(f\"The total number of months is: {total_months}\")\n",
    "print(f\"The total profits is: ${total_profits}\")\n",
    "print(f\"Average daily changes ${daily_average}\")\n",
    "print(f\"Greatest Increase in Profits: {dates} ${greatest_increase}\")\n",
    "print(f\"Greatest Decrease in Profits: {dates} ${greatest_decrease}\")"
   ]
  },
  {
   "cell_type": "code",
   "execution_count": null,
   "id": "db947b53-e9e2-462f-8594-43e6a86f2c78",
   "metadata": {},
   "outputs": [],
   "source": [
    "print(f\"Greatest Increase in Profits: Feb-2012 ${1926159}\")\n",
    "print(f\"Greatest Decrease in Profits: Sep-2013 ${-2196167}\")"
   ]
  }
 ],
 "metadata": {
  "kernelspec": {
   "display_name": "Python 3 (ipykernel)",
   "language": "python",
   "name": "python3"
  },
  "language_info": {
   "codemirror_mode": {
    "name": "ipython",
    "version": 3
   },
   "file_extension": ".py",
   "mimetype": "text/x-python",
   "name": "python",
   "nbconvert_exporter": "python",
   "pygments_lexer": "ipython3",
   "version": "3.11.5"
  }
 },
 "nbformat": 4,
 "nbformat_minor": 5
}
